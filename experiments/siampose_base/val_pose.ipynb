{
 "cells": [
  {
   "cell_type": "code",
   "execution_count": 1,
   "metadata": {},
   "outputs": [],
   "source": [
    "import cv2\n",
    "import numpy as np\n",
    "import matplotlib.pyplot as plt\n",
    "%matplotlib inline"
   ]
  },
  {
   "cell_type": "code",
   "execution_count": 6,
   "metadata": {},
   "outputs": [
    {
     "data": {
      "text/plain": [
       "<matplotlib.image.AxesImage at 0x7fc88a954278>"
      ]
     },
     "execution_count": 6,
     "metadata": {},
     "output_type": "execute_result"
    },
    {
     "data": {
      "image/png": "[encoded data removed]",
      "text/plain": [
       "<Figure size 432x288 with 1 Axes>"
      ]
     },
     "metadata": {
      "needs_background": "light"
     },
     "output_type": "display_data"
    }
   ],
   "source": [
    "img = np.zeros((127,127,3), np.uint8)\n",
    "\n",
    "plt.imshow(img)"
   ]
  },
  {
   "cell_type": "code",
   "execution_count": null,
   "metadata": {},
   "outputs": [],
   "source": [
    "img = np.zeros((512,512,3), np.uint8)   \n",
    "#fill the image with white\n",
    "img.fill(255)\n",
    "###########################################\n",
    "####Main Function                      #### \n",
    "#draw \n",
    "#        start x  y end x    y      color\n",
    "cv2.line(img, (10,50), (511, 511), (255,0,0), 5) \n",
    "cv2.rectangle(img, (384,0), (510, 128), (0, 255, 0), 3)\n",
    "cv2.circle(img, (447, 63), 63, (0,0,255), -1) \n",
    "cv2.ellipse(img, (256,256), (100,50),45,0,290,(0,0,255),-1)\n",
    "font = cv2.FONT_HERSHEY_SIMPLEX  \n",
    "cv2.putText(img, 'Hello', (10,500), font, 4, (255,2,255), 2)  \n",
    "cv2.imshow('image', img)  "
   ]
  },
  {
   "cell_type": "code",
   "execution_count": null,
   "metadata": {},
   "outputs": [],
   "source": []
  }
 ],
 "metadata": {
  "kernelspec": {
   "display_name": "Python 3",
   "language": "python",
   "name": "python3"
  },
  "language_info": {
   "codemirror_mode": {
    "name": "ipython",
    "version": 3
   },
   "file_extension": ".py",
   "mimetype": "text/x-python",
   "name": "python",
   "nbconvert_exporter": "python",
   "pygments_lexer": "ipython3",
   "version": "3.6.8"
  }
 },
 "nbformat": 4,
 "nbformat_minor": 2
}
